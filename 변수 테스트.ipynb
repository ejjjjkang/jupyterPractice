{
 "cells": [
  {
   "cell_type": "code",
   "execution_count": 3,
   "metadata": {},
   "outputs": [
    {
     "name": "stdout",
     "output_type": "stream",
     "text": [
      "Hello Jupyter!!\n"
     ]
    }
   ],
   "source": [
    "your_name = 'Jupyter'\n",
    "\n",
    "def hello(name):\n",
    "    print('Hello {0}!!'.format(name))\n",
    "    \n",
    "hello(your_name)"
   ]
  },
  {
   "cell_type": "code",
   "execution_count": 2,
   "metadata": {},
   "outputs": [
    {
     "name": "stdout",
     "output_type": "stream",
     "text": [
      "Hello Eun Jeong!!\n"
     ]
    }
   ],
   "source": [
    "hello('Eun Jeong')"
   ]
  },
  {
   "cell_type": "code",
   "execution_count": 3,
   "metadata": {},
   "outputs": [],
   "source": [
    "#실행 / 미실행은 셀 완쪽의 In[]에 숫자가 들어 있는지 없는지로 판별할 수 있다. 비어 있는 경우 그 코드는 실행X"
   ]
  },
  {
   "cell_type": "code",
   "execution_count": 1,
   "metadata": {},
   "outputs": [],
   "source": [
    "#표준 라이브러리 불러오기\n",
    "import math\n",
    "\n",
    "math.sqrt(4)\n",
    "\n",
    "#?를 붙여서 실행하면 DocString 참조 가능\n",
    "#대상 끝부분에 입력 커서를 놓은 상태에서 Shift+Tab을 누를 경우 툴팁 표시\n",
    "math.sqrt?"
   ]
  },
  {
   "cell_type": "code",
   "execution_count": 4,
   "metadata": {},
   "outputs": [],
   "source": [
    "#코드 자동완성의 경우 Tab\n"
   ]
  },
  {
   "cell_type": "code",
   "execution_count": null,
   "metadata": {},
   "outputs": [],
   "source": []
  }
 ],
 "metadata": {
  "kernelspec": {
   "display_name": "Python 3",
   "language": "python",
   "name": "python3"
  },
  "language_info": {
   "codemirror_mode": {
    "name": "ipython",
    "version": 3
   },
   "file_extension": ".py",
   "mimetype": "text/x-python",
   "name": "python",
   "nbconvert_exporter": "python",
   "pygments_lexer": "ipython3",
   "version": "3.6.5"
  }
 },
 "nbformat": 4,
 "nbformat_minor": 2
}
